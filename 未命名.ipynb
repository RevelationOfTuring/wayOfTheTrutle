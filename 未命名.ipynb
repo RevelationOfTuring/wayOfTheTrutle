{
 "cells": [
  {
   "cell_type": "code",
   "execution_count": 29,
   "metadata": {},
   "outputs": [],
   "source": [
    "import requests\n",
    "import time\n",
    "import hmac\n",
    "import base64\n",
    "import json\n",
    "\n",
    "api_key = \"d61d4b9b-fae2-45c4-9a9e-ad773a5d3747\"\n",
    "secret_key = \"1857B54018D23854335E833D97F11593\"\n",
    "passphrase = \"BLOCKchain1024\"\n",
    "\n",
    "CONTENT_TYPE = 'Content-Type'\n",
    "OK_ACCESS_KEY = 'OK-ACCESS-KEY'\n",
    "OK_ACCESS_SIGN = 'OK-ACCESS-SIGN'\n",
    "OK_ACCESS_TIMESTAMP = 'OK-ACCESS-TIMESTAMP'\n",
    "OK_ACCESS_PASSPHRASE = 'OK-ACCESS-PASSPHRASE'\n",
    "APPLICATION_JSON = 'application/json'\n",
    "\n",
    "# signature\n",
    "def signature(timestamp, method, request_path, body, secret_key):\n",
    "    if str(body) == '{}' or str(body) == 'None':\n",
    "        body = ''\n",
    "    message = str(timestamp) + str.upper(method) + request_path + str(body)\n",
    "    mac = hmac.new(bytes(secret_key, encoding='utf8'), bytes(message, encoding='utf-8'), digestmod='sha256')\n",
    "    d = mac.digest()\n",
    "    return base64.b64encode(d)\n",
    "\n",
    "\n",
    "# set request header\n",
    "def get_header(api_key, sign, timestamp, passphrase):\n",
    "    header = dict()\n",
    "    header[CONTENT_TYPE] = APPLICATION_JSON\n",
    "    header[OK_ACCESS_KEY] = api_key\n",
    "    header[OK_ACCESS_SIGN] = sign\n",
    "    header[OK_ACCESS_TIMESTAMP] = str(timestamp)\n",
    "    header[OK_ACCESS_PASSPHRASE] = passphrase\n",
    "    return header\n",
    "\n",
    "\n",
    "def parse_params_to_str(params):\n",
    "    url = '?'\n",
    "    for key, value in params.items():\n",
    "        url = url + str(key) + '=' + str(value) + '&'\n",
    "\n",
    "    return url[0:-1]\n",
    "\n",
    "# url\n",
    "base_url = 'https://www.okex.me'\n",
    "wallet_path = '/api/account/v3/wallet'\n",
    "server_time_path = 'https://www.okex.me/api/general/v3/time'\n",
    "\n",
    "# get personal info\n",
    "def get_wallet_info():\n",
    "    timestamp=get_server_time()\n",
    "    header = get_header(api_key, signature(timestamp, 'GET', wallet_path,'', secret_key), timestamp, passphrase)\n",
    "    resp = requests.get(base_url + wallet_path, headers=header)\n",
    "    return resp.json()\n",
    "    \n",
    "# get public function\n",
    "def get_server_time():\n",
    "    resp= requests.get(server_time_path)\n",
    "    return resp.json()['epoch']\n",
    "\n",
    "\n",
    "\n"
   ]
  },
  {
   "cell_type": "code",
   "execution_count": 31,
   "metadata": {},
   "outputs": [
    {
     "name": "stdout",
     "output_type": "stream",
     "text": [
      "[{'balance': '0.60000000', 'available': '0.60000000', 'currency': 'ATOM', 'hold': '0.00000000'}]\n"
     ]
    }
   ],
   "source": [
    "data=get_wallet_info()\n",
    "print(data)\n",
    "\n",
    "\n"
   ]
  },
  {
   "cell_type": "code",
   "execution_count": null,
   "metadata": {},
   "outputs": [],
   "source": []
  }
 ],
 "metadata": {
  "kernelspec": {
   "display_name": "Python 3",
   "language": "python",
   "name": "python3"
  },
  "language_info": {
   "codemirror_mode": {
    "name": "ipython",
    "version": 3
   },
   "file_extension": ".py",
   "mimetype": "text/x-python",
   "name": "python",
   "nbconvert_exporter": "python",
   "pygments_lexer": "ipython3",
   "version": "3.7.3"
  }
 },
 "nbformat": 4,
 "nbformat_minor": 2
}
